{
 "cells": [
  {
   "cell_type": "code",
   "execution_count": 10,
   "metadata": {},
   "outputs": [],
   "source": [
    "# Stock Sentiment Agent Workflow\n",
    "## LIbraries\n",
    "from phi.agent import Agent\n",
    "from phi.model.google import Gemini\n",
    "from phi.tools.googlesearch import GoogleSearch\n",
    "from phi.tools.yfinance import YFinanceTools\n",
    "\n",
    "## Create Agents\n",
    "\n",
    "# Sentiment Agent\n",
    "sentiment_agent = Agent(\n",
    "    name=\"Sentiment Agent\",\n",
    "    role=\"Search and interpret news articles.\",\n",
    "    model=Gemini(id=\"gemini-2.0-flash-exp\"),\n",
    "    tools=[GoogleSearch()],\n",
    "    instructions=[\n",
    "        \"Find relevant news articles for each company and analyze the sentiment.\",\n",
    "        \"Provide sentiment scores from 1 (negative) to 10 (positive) with reasoning and sources.\"\n",
    "        \"Cite your sources. Be specific and provide links.\",\n",
    "    ],\n",
    "    show_tool_calls=True,\n",
    "    markdown=True,\n",
    ")\n",
    "\n",
    "# Finance Agent\n",
    "finance_agent = Agent(\n",
    "    name=\"Finance Agent\",\n",
    "    role=\"Get financial data and interpret trends.\",\n",
    "    model=Gemini(id=\"gemini-2.0-flash-exp\"),\n",
    "    tools=[\n",
    "        YFinanceTools(stock_price=True, analyst_recommendations=True, company_info=True)\n",
    "    ],\n",
    "    instructions=[\n",
    "        \"Retrieve stock prices, analyst recommendations, and key financial data.\",\n",
    "        \"Focus on trends and present the data in tables with key insights.\",\n",
    "    ],\n",
    "    show_tool_calls=True,\n",
    "    markdown=True,\n",
    ")\n",
    "\n",
    "# Analyst Agent\n",
    "analyst_agent = Agent(\n",
    "    name=\"Analyst Agent\",\n",
    "    role=\"Ensure thoroughness and draw conclusions.\",\n",
    "    model=Gemini(id=\"gemini-2.0-flash-exp\"),\n",
    "    instructions=[\n",
    "        \"Check outputs for accuracy and completeness.\",\n",
    "        \"Synthesize data to provide a final sentiment score (1-10) with justification.\",\n",
    "    ],\n",
    "    show_tool_calls=True,\n",
    "    markdown=True,\n",
    ")\n",
    "\n",
    "# Team of Agents\n",
    "agent_team = Agent(\n",
    "    model=Gemini(id=\"gemini-2.0-flash-exp\"),\n",
    "    team=[sentiment_agent, finance_agent, analyst_agent],\n",
    "    instructions=[\n",
    "        \"Combine the expertise of all agents to provide a cohesive, well-supported response.\",\n",
    "        \"Always include references and dates for all data points and sources.\",\n",
    "        \"Present all data in structured tables for clarity.\",\n",
    "        \"Explain the methodology used to arrive at the sentiment scores.\",\n",
    "    ],\n",
    "    show_tool_calls=True,\n",
    "    markdown=True,\n",
    "    tool_choice=\"auto\"\n",
    ")"
   ]
  },
  {
   "cell_type": "code",
   "execution_count": 11,
   "metadata": {},
   "outputs": [
    {
     "data": {
      "application/vnd.jupyter.widget-view+json": {
       "model_id": "e9d1b8646f8b4ef086242e44ee169aa8",
       "version_major": 2,
       "version_minor": 0
      },
      "text/plain": [
       "Output()"
      ]
     },
     "metadata": {},
     "output_type": "display_data"
    },
    {
     "data": {
      "text/html": [
       "<pre style=\"white-space:pre;overflow-x:auto;line-height:normal;font-family:Menlo,'DejaVu Sans Mono',consolas,'Courier New',monospace\"></pre>\n"
      ],
      "text/plain": []
     },
     "metadata": {},
     "output_type": "display_data"
    }
   ],
   "source": [
    "## Run Agent Team\n",
    "\n",
    "# Final Prompt\n",
    "agent_team.print_response(\n",
    "    \"\"\"\n",
    "    Analyze the sentiment for the following companies on 13th January 2025: NVDA\\n\\n\n",
    "    1. **Sentiment Analysis**: Search for relevant news articles and interpret the sentiment for each company. Provide sentiment scores on a scale of 1 to 10, explain your reasoning, and cite your sources.\\n\\n\n",
    "    2. **Financial Data**: Analyze stock price movements, analyst recommendations, and any notable financial data. Highlight key trends or events, and present the data in tables.\\n\\n\n",
    "    3. **Consolidated Analysis**: Combine the insights from sentiment analysis and financial data to assign a final sentiment score (1-10) for each company. Justify the scores and provide a summary of the most important findings.\\n\\n\n",
    "    Ensure your response is accurate, comprehensive, and includes references to sources with publication dates.\n",
    "    \"\"\",\n",
    "    stream=True,\n",
    ")"
   ]
  },
  {
   "cell_type": "code",
   "execution_count": null,
   "metadata": {},
   "outputs": [],
   "source": []
  }
 ],
 "metadata": {
  "kernelspec": {
   "display_name": ".venv",
   "language": "python",
   "name": "python3"
  },
  "language_info": {
   "codemirror_mode": {
    "name": "ipython",
    "version": 3
   },
   "file_extension": ".py",
   "mimetype": "text/x-python",
   "name": "python",
   "nbconvert_exporter": "python",
   "pygments_lexer": "ipython3",
   "version": "3.12.4"
  }
 },
 "nbformat": 4,
 "nbformat_minor": 2
}
