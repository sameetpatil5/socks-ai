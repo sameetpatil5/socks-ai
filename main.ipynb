{
 "cells": [
  {
   "cell_type": "markdown",
   "metadata": {},
   "source": [
    "# Stock Sentiment Agent Workflow"
   ]
  },
  {
   "cell_type": "code",
   "execution_count": null,
   "metadata": {},
   "outputs": [],
   "source": [
    "## LIbraries\n",
    "from phi.agent import Agent\n",
    "from phi.model.openai import OpenAIChat\n",
    "from phi.tools.googlesearch import GoogleSearch\n",
    "from phi.tools.yfinance import YFinanceTools"
   ]
  },
  {
   "cell_type": "code",
   "execution_count": null,
   "metadata": {},
   "outputs": [],
   "source": [
    "## Put Open AI API key into Python environment\n",
    "import os\n",
    "\n",
    "os.environ[\"OPENAI_API_KEY\"] = \"sk-xxxxxxxx\""
   ]
  },
  {
   "cell_type": "code",
   "execution_count": null,
   "metadata": {},
   "outputs": [],
   "source": [
    "## Create Agents\n",
    "\n",
    "# Sentiment Agent\n",
    "sentiment_agent = Agent(\n",
    "    name=\"Sentiment Agent\",\n",
    "    role=\"Search and interpret news articles.\",\n",
    "    model=OpenAIChat(id=\"gpt-4o\"),\n",
    "    tools=[GoogleSearch()],\n",
    "    instructions=[\n",
    "        \"Find relevant news articles for each company and analyze the sentiment.\",\n",
    "        \"Provide sentiment scores from 1 (negative) to 10 (positive) with reasoning and sources.\"\n",
    "        \"Cite your sources. Be specific and provide links.\",\n",
    "    ],\n",
    "    show_tool_calls=True,\n",
    "    markdown=True,\n",
    ")\n",
    "\n",
    "# Finance Agent\n",
    "finance_agent = Agent(\n",
    "    name=\"Finance Agent\",\n",
    "    role=\"Get financial data and interpret trends.\",\n",
    "    model=OpenAIChat(id=\"gpt-4o\"),\n",
    "    tools=[\n",
    "        YFinanceTools(stock_price=True, analyst_recommendations=True, company_info=True)\n",
    "    ],\n",
    "    instructions=[\n",
    "        \"Retrieve stock prices, analyst recommendations, and key financial data.\",\n",
    "        \"Focus on trends and present the data in tables with key insights.\",\n",
    "    ],\n",
    "    show_tool_calls=True,\n",
    "    markdown=True,\n",
    ")\n",
    "\n",
    "# Analyst Agent\n",
    "analyst_agent = Agent(\n",
    "    name=\"Analyst Agent\",\n",
    "    role=\"Ensure thoroughness and draw conclusions.\",\n",
    "    model=OpenAIChat(id=\"gpt-4o\"),\n",
    "    instructions=[\n",
    "        \"Check outputs for accuracy and completeness.\",\n",
    "        \"Synthesize data to provide a final sentiment score (1-10) with justification.\",\n",
    "    ],\n",
    "    show_tool_calls=True,\n",
    "    markdown=True,\n",
    ")\n",
    "\n",
    "# Team of Agents\n",
    "agent_team = Agent(\n",
    "    model=OpenAIChat(id=\"gpt-4o\"),\n",
    "    team=[sentiment_agent, finance_agent, analyst_agent],\n",
    "    instructions=[\n",
    "        \"Combine the expertise of all agents to provide a cohesive, well-supported response.\",\n",
    "        \"Always include references and dates for all data points and sources.\",\n",
    "        \"Present all data in structured tables for clarity.\",\n",
    "        \"Explain the methodology used to arrive at the sentiment scores.\",\n",
    "    ],\n",
    "    show_tool_calls=True,\n",
    "    markdown=True,\n",
    ")\n",
    "\n",
    "## Run Agent Team\n",
    "\n",
    "# Final Prompt\n",
    "agent_team.print_response(\n",
    "    \"Analyze the sentiment for the following companies during the week of December 2nd-6th, 2024: NVDA, MSFT. \\n\\n\"\n",
    "    \"1. **Sentiment Analysis**: Search for relevant news articles and interpret th–e sentiment for each company. Provide sentiment scores on a scale of 1 to 10, explain your reasoning, and cite your sources.\\n\\n\"\n",
    "    \"2. **Financial Data**: Analyze stock price movements, analyst recommendations, and any notable financial data. Highlight key trends or events, and present the data in tables.\\n\\n\"\n",
    "    \"3. **Consolidated Analysis**: Combine the insights from sentiment analysis and financial data to assign a final sentiment score (1-10) for each company. Justify the scores and provide a summary of the most important findings.\\n\\n\"\n",
    "    \"Ensure your response is accurate, comprehensive, and includes references to sources with publication dates.\",\n",
    "    stream=True,\n",
    ")"
   ]
  }
 ],
 "metadata": {
  "kernelspec": {
   "display_name": ".venv",
   "language": "python",
   "name": "python3"
  },
  "language_info": {
   "name": "python",
   "version": "3.12.4"
  }
 },
 "nbformat": 4,
 "nbformat_minor": 2
}
